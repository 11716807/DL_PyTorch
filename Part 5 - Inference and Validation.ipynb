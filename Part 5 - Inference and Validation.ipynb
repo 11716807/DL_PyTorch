{
 "cells": [
  {
   "cell_type": "markdown",
   "metadata": {},
   "source": [
    "# Inference and Validation\n",
    "\n",
    "Now that you have a trained network, you can use it for making predictions. This is typically called **inference**, a term borrowed from statistics. However, neural networks have a tendency to perform *too well* on the training data and aren't able to generalize to data that hasn't been seen before. This is called **overfitting** and it impairs inference performance. To test for overfitting while training, we measure the performance on data not in the training set called the **validation** dataset. We avoid overfitting through regularization such as dropout while monitoring the validation performance during training. In this notebook, I'll show you how to do this in PyTorch. \n",
    "\n",
    "First off, I'll implement my own feedforward network for the exercise you worked on in part 4 using the Fashion-MNIST dataset. This will serve as a solution for part 4, as well as an example of how to use dropout and validation.\n",
    "\n",
    "As usual, let's start by loading the dataset through torchvision. You'll learn more about torchvision and loading data in a later part."
   ]
  },
  {
   "cell_type": "code",
   "execution_count": 1,
   "metadata": {},
   "outputs": [],
   "source": [
    "%matplotlib inline\n",
    "%config InlineBackend.figure_format = 'retina'\n",
    "\n",
    "import matplotlib.pyplot as plt\n",
    "import numpy as np\n",
    "import time\n",
    "\n",
    "import torch\n",
    "from torch import nn\n",
    "from torch import optim\n",
    "import torch.nn.functional as F\n",
    "from torchvision import datasets, transforms\n",
    "\n",
    "import helper"
   ]
  },
  {
   "cell_type": "code",
   "execution_count": 2,
   "metadata": {},
   "outputs": [],
   "source": [
    "# Define a transform to normalize the data\n",
    "transform = transforms.Compose([transforms.ToTensor(),\n",
    "                                transforms.Normalize((0.5, 0.5, 0.5), (0.5, 0.5, 0.5))])\n",
    "# Download and load the training data\n",
    "trainset = datasets.FashionMNIST('F_MNIST_data/', download=True, train=True, transform=transform)\n",
    "trainloader = torch.utils.data.DataLoader(trainset, batch_size=64, shuffle=True)\n",
    "\n",
    "# Download and load the test data\n",
    "testset = datasets.FashionMNIST('F_MNIST_data/', download=True, train=False, transform=transform)\n",
    "testloader = torch.utils.data.DataLoader(testset, batch_size=64, shuffle=True)"
   ]
  },
  {
   "cell_type": "markdown",
   "metadata": {},
   "source": [
    "## Building the network\n",
    "\n",
    "As with MNIST, each image in Fashion-MNIST is 28x28 which is a total of 784 pixels, and there are 10 classes. I used `nn.ModuleList` to allow for an arbitrary number of hidden layers. This model has an argument `hidden_layers` that's a list of the hidden layer sizes (as integers). Using `nn.ModuleList` registers each hidden layer module properly so you can use module methods in the model.\n",
    "\n",
    "I also have the `forward` method returning the log-softmax for the output. Since softmax is a probability distibution over the classes, the log-softmax is a log probability which comes with a [lot of benefits](https://en.wikipedia.org/wiki/Log_probability). Using the log probability, computations are often faster and more accurate. To get the class probabilities later, I'll need to take the exponential (`torch.exp`) of the output.\n",
    "\n",
    "We can include dropout in our network with [`nn.Dropout`](http://pytorch.org/docs/master/nn.html#dropout). This works similar to other modules such as `nn.Linear`. It also takes the dropout probability as an input which we can pass as an input to the network."
   ]
  },
  {
   "cell_type": "code",
   "execution_count": 3,
   "metadata": {},
   "outputs": [],
   "source": [
    "class Network(nn.Module):\n",
    "    def __init__(self, input_size, output_size, hidden_layers, drop_p=0.5):\n",
    "        ''' Builds a feedforward network with arbitrary hidden layers.\n",
    "        \n",
    "            Arguments\n",
    "            ---------\n",
    "            input_size: integer, size of the input\n",
    "            output_size: integer, size of the output layer\n",
    "            hidden_layers: list of integers, the sizes of the hidden layers\n",
    "            drop_p: float between 0 and 1, dropout probability\n",
    "        '''\n",
    "        super().__init__()\n",
    "        # Add the first layer, input to a hidden layer\n",
    "        self.hidden_layers = nn.ModuleList([nn.Linear(input_size, hidden_layers[0])])\n",
    "        \n",
    "        # Add a variable number of more hidden layers\n",
    "        layer_sizes = zip(hidden_layers[:-1], hidden_layers[1:])\n",
    "        self.hidden_layers.extend([nn.Linear(h1, h2) for h1, h2 in layer_sizes])\n",
    "        \n",
    "        self.output = nn.Linear(hidden_layers[-1], output_size)\n",
    "        \n",
    "        self.dropout = nn.Dropout(p=drop_p)\n",
    "        \n",
    "    def forward(self, x):\n",
    "        ''' Forward pass through the network, returns the output logits '''\n",
    "        \n",
    "        for each in self.hidden_layers:\n",
    "            x = F.relu(each(x))\n",
    "            x = self.dropout(x)\n",
    "        x = self.output(x)\n",
    "        \n",
    "        return F.log_softmax(x, dim=1)"
   ]
  },
  {
   "cell_type": "markdown",
   "metadata": {},
   "source": [
    "# Train the network\n",
    "\n",
    "Since the model's forward method returns the log-softmax, I used the [negative log loss](http://pytorch.org/docs/master/nn.html#nllloss) as my criterion, `nn.NLLLoss()`. I also chose to use the [Adam optimizer](http://pytorch.org/docs/master/optim.html#torch.optim.Adam). This is a variant of stochastic gradient descent which includes momentum and in general trains faster than your basic SGD.\n",
    "\n",
    "I've also included a block to measure the validation loss and accuracy. Since I'm using dropout in the network, I need to turn it off during inference. Otherwise, the network will appear to perform poorly because many of the connections are turned off. PyTorch allows you to set a model in \"training\" or \"evaluation\" modes with `model.train()` and `model.eval()`, respectively. In training mode, dropout is turned on, while in evaluation mode, dropout is turned off. This effects other modules as well that should be on during training but off during inference.\n",
    "\n",
    "The validation code consists of a forward pass through the validation set (also split into batches). With the log-softmax output, I calculate the loss on the validation set, as well as the prediction accuracy."
   ]
  },
  {
   "cell_type": "code",
   "execution_count": 4,
   "metadata": {},
   "outputs": [],
   "source": [
    "# Create the network, define the criterion and optimizer\n",
    "model = Network(784, 10, [500], drop_p=0.5)\n",
    "criterion = nn.NLLLoss()\n",
    "optimizer = optim.Adam(model.parameters(), lr=0.001)"
   ]
  },
  {
   "cell_type": "code",
   "execution_count": 5,
   "metadata": {},
   "outputs": [
    {
     "name": "stdout",
     "output_type": "stream",
     "text": [
      "Epoch: 1/2..  Training Loss: 1.051..  Test Loss: 0.692..  Test Accuracy: 0.735\n",
      "Epoch: 1/2..  Training Loss: 0.709..  Test Loss: 0.595..  Test Accuracy: 0.783\n",
      "Epoch: 1/2..  Training Loss: 0.656..  Test Loss: 0.568..  Test Accuracy: 0.793\n",
      "Epoch: 1/2..  Training Loss: 0.588..  Test Loss: 0.558..  Test Accuracy: 0.786\n",
      "Epoch: 1/2..  Training Loss: 0.578..  Test Loss: 0.562..  Test Accuracy: 0.789\n",
      "Epoch: 1/2..  Training Loss: 0.591..  Test Loss: 0.526..  Test Accuracy: 0.805\n",
      "Epoch: 1/2..  Training Loss: 0.560..  Test Loss: 0.519..  Test Accuracy: 0.810\n",
      "Epoch: 1/2..  Training Loss: 0.531..  Test Loss: 0.530..  Test Accuracy: 0.810\n",
      "Epoch: 1/2..  Training Loss: 0.554..  Test Loss: 0.491..  Test Accuracy: 0.823\n",
      "Epoch: 1/2..  Training Loss: 0.508..  Test Loss: 0.513..  Test Accuracy: 0.808\n",
      "Epoch: 1/2..  Training Loss: 0.516..  Test Loss: 0.488..  Test Accuracy: 0.823\n",
      "Epoch: 1/2..  Training Loss: 0.487..  Test Loss: 0.486..  Test Accuracy: 0.822\n",
      "Epoch: 1/2..  Training Loss: 0.500..  Test Loss: 0.481..  Test Accuracy: 0.823\n",
      "Epoch: 1/2..  Training Loss: 0.501..  Test Loss: 0.475..  Test Accuracy: 0.824\n",
      "Epoch: 1/2..  Training Loss: 0.503..  Test Loss: 0.468..  Test Accuracy: 0.831\n",
      "Epoch: 1/2..  Training Loss: 0.494..  Test Loss: 0.475..  Test Accuracy: 0.823\n",
      "Epoch: 1/2..  Training Loss: 0.487..  Test Loss: 0.449..  Test Accuracy: 0.840\n",
      "Epoch: 1/2..  Training Loss: 0.484..  Test Loss: 0.453..  Test Accuracy: 0.837\n",
      "Epoch: 1/2..  Training Loss: 0.477..  Test Loss: 0.459..  Test Accuracy: 0.828\n",
      "Epoch: 1/2..  Training Loss: 0.498..  Test Loss: 0.451..  Test Accuracy: 0.835\n",
      "Epoch: 1/2..  Training Loss: 0.485..  Test Loss: 0.470..  Test Accuracy: 0.825\n",
      "Epoch: 1/2..  Training Loss: 0.471..  Test Loss: 0.444..  Test Accuracy: 0.835\n",
      "Epoch: 1/2..  Training Loss: 0.498..  Test Loss: 0.440..  Test Accuracy: 0.838\n",
      "Epoch: 2/2..  Training Loss: 0.483..  Test Loss: 0.445..  Test Accuracy: 0.836\n",
      "Epoch: 2/2..  Training Loss: 0.419..  Test Loss: 0.446..  Test Accuracy: 0.837\n",
      "Epoch: 2/2..  Training Loss: 0.461..  Test Loss: 0.425..  Test Accuracy: 0.847\n",
      "Epoch: 2/2..  Training Loss: 0.422..  Test Loss: 0.444..  Test Accuracy: 0.835\n",
      "Epoch: 2/2..  Training Loss: 0.459..  Test Loss: 0.429..  Test Accuracy: 0.843\n",
      "Epoch: 2/2..  Training Loss: 0.453..  Test Loss: 0.424..  Test Accuracy: 0.847\n",
      "Epoch: 2/2..  Training Loss: 0.447..  Test Loss: 0.449..  Test Accuracy: 0.835\n",
      "Epoch: 2/2..  Training Loss: 0.456..  Test Loss: 0.436..  Test Accuracy: 0.845\n",
      "Epoch: 2/2..  Training Loss: 0.438..  Test Loss: 0.433..  Test Accuracy: 0.840\n",
      "Epoch: 2/2..  Training Loss: 0.466..  Test Loss: 0.434..  Test Accuracy: 0.841\n",
      "Epoch: 2/2..  Training Loss: 0.440..  Test Loss: 0.429..  Test Accuracy: 0.842\n",
      "Epoch: 2/2..  Training Loss: 0.447..  Test Loss: 0.444..  Test Accuracy: 0.836\n",
      "Epoch: 2/2..  Training Loss: 0.457..  Test Loss: 0.420..  Test Accuracy: 0.845\n",
      "Epoch: 2/2..  Training Loss: 0.470..  Test Loss: 0.425..  Test Accuracy: 0.850\n",
      "Epoch: 2/2..  Training Loss: 0.420..  Test Loss: 0.430..  Test Accuracy: 0.846\n",
      "Epoch: 2/2..  Training Loss: 0.433..  Test Loss: 0.415..  Test Accuracy: 0.852\n",
      "Epoch: 2/2..  Training Loss: 0.463..  Test Loss: 0.421..  Test Accuracy: 0.847\n",
      "Epoch: 2/2..  Training Loss: 0.447..  Test Loss: 0.407..  Test Accuracy: 0.854\n",
      "Epoch: 2/2..  Training Loss: 0.436..  Test Loss: 0.418..  Test Accuracy: 0.847\n",
      "Epoch: 2/2..  Training Loss: 0.432..  Test Loss: 0.411..  Test Accuracy: 0.852\n",
      "Epoch: 2/2..  Training Loss: 0.448..  Test Loss: 0.409..  Test Accuracy: 0.852\n",
      "Epoch: 2/2..  Training Loss: 0.478..  Test Loss: 0.427..  Test Accuracy: 0.842\n",
      "Epoch: 2/2..  Training Loss: 0.442..  Test Loss: 0.408..  Test Accuracy: 0.851\n"
     ]
    }
   ],
   "source": [
    "epochs = 2\n",
    "steps = 0\n",
    "running_loss = 0\n",
    "print_every = 40\n",
    "for e in range(epochs):\n",
    "    # Model in training mode, dropout is on\n",
    "    model.train()\n",
    "    for images, labels in iter(trainloader):\n",
    "        steps += 1\n",
    "        \n",
    "        # Flatten images into a 784 long vector\n",
    "        images.resize_(images.size()[0], 784)\n",
    "        \n",
    "        optimizer.zero_grad()\n",
    "        \n",
    "        output = model.forward(images)\n",
    "        loss = criterion(output, labels)\n",
    "        loss.backward()\n",
    "        optimizer.step()\n",
    "        \n",
    "        running_loss += loss.item()\n",
    "        \n",
    "        if steps % print_every == 0:\n",
    "            # Model in inference mode, dropout is off, grads are off\n",
    "            model.eval()\n",
    "            torch.set_grad_enabled(False)\n",
    "            \n",
    "            accuracy = 0\n",
    "            test_loss = 0\n",
    "            for ii, (images, labels) in enumerate(testloader):\n",
    "                \n",
    "                images = images.resize_(images.size()[0], 784)\n",
    "                \n",
    "                output = model.forward(images)\n",
    "                test_loss += criterion(output, labels).item()\n",
    "                \n",
    "                ## Calculating the accuracy \n",
    "                # Model's output is log-softmax, take exponential to get the probabilities\n",
    "                ps = torch.exp(output)\n",
    "                # Class with highest probability is our predicted class, compare with true label\n",
    "                equality = (labels.data == ps.max(1)[1])\n",
    "                # Accuracy is number of correct predictions divided by all predictions, just take the mean\n",
    "                accuracy += equality.type_as(torch.FloatTensor()).mean()\n",
    "            \n",
    "            print(\"Epoch: {}/{}.. \".format(e+1, epochs),\n",
    "                  \"Training Loss: {:.3f}.. \".format(running_loss/print_every),\n",
    "                  \"Test Loss: {:.3f}.. \".format(test_loss/len(testloader)),\n",
    "                  \"Test Accuracy: {:.3f}\".format(accuracy/len(testloader)))\n",
    "            \n",
    "            running_loss = 0\n",
    "            \n",
    "            # Make sure dropout and grads are on for training\n",
    "            model.train()\n",
    "            torch.set_grad_enabled(True)"
   ]
  },
  {
   "cell_type": "markdown",
   "metadata": {},
   "source": [
    "## Inference\n",
    "\n",
    "Now that the model is trained, we can use it for inference. We've done this before, but now we need to remember to set the model in inference mode with `model.eval()`. You'll also want to turn off autograd with the `torch.no_grad()` context."
   ]
  },
  {
   "cell_type": "code",
   "execution_count": null,
   "metadata": {},
   "outputs": [],
   "source": [
    "# Test out your network!\n",
    "\n",
    "model.eval()\n",
    "\n",
    "dataiter = iter(testloader)\n",
    "images, labels = dataiter.next()\n",
    "img = images[0]\n",
    "# Convert 2D image to 1D vector\n",
    "img = img.resize_(1, 784)\n",
    "\n",
    "# Calculate the class probabilities (softmax) for img\n",
    "with torch.no_grad():\n",
    "    output = model.forward(img)\n",
    "\n",
    "ps = torch.exp(output)\n",
    "\n",
    "# Plot the image and probabilities\n",
    "helper.view_classify(img.resize_(1, 28, 28), ps, version='Fashion')"
   ]
  },
  {
   "cell_type": "markdown",
   "metadata": {},
   "source": [
    "## Next Up!\n",
    "\n",
    "In the next part, I'll show you how to save your trained models. In general, you won't want to train a model everytime you need it. Instead, you'll train once, save it, then load the model when you want to train more or use if for inference."
   ]
  }
 ],
 "metadata": {
  "kernelspec": {
   "display_name": "Python 3",
   "language": "python",
   "name": "python3"
  },
  "language_info": {
   "codemirror_mode": {
    "name": "ipython",
    "version": 3
   },
   "file_extension": ".py",
   "mimetype": "text/x-python",
   "name": "python",
   "nbconvert_exporter": "python",
   "pygments_lexer": "ipython3",
   "version": "3.6.5"
  }
 },
 "nbformat": 4,
 "nbformat_minor": 2
}
